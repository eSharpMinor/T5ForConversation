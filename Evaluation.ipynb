{
 "cells": [
  {
   "cell_type": "code",
   "execution_count": 1,
   "id": "f3a7656a-1348-4191-a717-bc8bbe56f936",
   "metadata": {},
   "outputs": [],
   "source": [
    "import pandas as pd\n",
    "from sklearn.model_selection import train_test_split"
   ]
  },
  {
   "cell_type": "code",
   "execution_count": 2,
   "id": "2bc75431-4acc-4a81-aae9-ba8438aa7b19",
   "metadata": {},
   "outputs": [],
   "source": [
    "file_path = \"./Conversation.csv\"\n",
    "GLOBAL_SEED=100"
   ]
  },
  {
   "cell_type": "code",
   "execution_count": 3,
   "id": "f19df74a-4ae0-4a2d-9542-08c2bf138710",
   "metadata": {},
   "outputs": [],
   "source": [
    "df_data = pd.read_csv(file_path)"
   ]
  },
  {
   "cell_type": "code",
   "execution_count": 4,
   "id": "16ac9583-b85a-4f0c-9ca4-0f8d105f3a8c",
   "metadata": {},
   "outputs": [
    {
     "data": {
      "text/html": [
       "<div>\n",
       "<style scoped>\n",
       "    .dataframe tbody tr th:only-of-type {\n",
       "        vertical-align: middle;\n",
       "    }\n",
       "\n",
       "    .dataframe tbody tr th {\n",
       "        vertical-align: top;\n",
       "    }\n",
       "\n",
       "    .dataframe thead th {\n",
       "        text-align: right;\n",
       "    }\n",
       "</style>\n",
       "<table border=\"1\" class=\"dataframe\">\n",
       "  <thead>\n",
       "    <tr style=\"text-align: right;\">\n",
       "      <th></th>\n",
       "      <th>Unnamed: 0</th>\n",
       "      <th>question</th>\n",
       "      <th>answer</th>\n",
       "    </tr>\n",
       "  </thead>\n",
       "  <tbody>\n",
       "    <tr>\n",
       "      <th>0</th>\n",
       "      <td>0</td>\n",
       "      <td>hi, how are you doing?</td>\n",
       "      <td>i'm fine. how about yourself?</td>\n",
       "    </tr>\n",
       "    <tr>\n",
       "      <th>1</th>\n",
       "      <td>1</td>\n",
       "      <td>i'm fine. how about yourself?</td>\n",
       "      <td>i'm pretty good. thanks for asking.</td>\n",
       "    </tr>\n",
       "    <tr>\n",
       "      <th>2</th>\n",
       "      <td>2</td>\n",
       "      <td>i'm pretty good. thanks for asking.</td>\n",
       "      <td>no problem. so how have you been?</td>\n",
       "    </tr>\n",
       "    <tr>\n",
       "      <th>3</th>\n",
       "      <td>3</td>\n",
       "      <td>no problem. so how have you been?</td>\n",
       "      <td>i've been great. what about you?</td>\n",
       "    </tr>\n",
       "    <tr>\n",
       "      <th>4</th>\n",
       "      <td>4</td>\n",
       "      <td>i've been great. what about you?</td>\n",
       "      <td>i've been good. i'm in school right now.</td>\n",
       "    </tr>\n",
       "  </tbody>\n",
       "</table>\n",
       "</div>"
      ],
      "text/plain": [
       "   Unnamed: 0                             question  \\\n",
       "0           0               hi, how are you doing?   \n",
       "1           1        i'm fine. how about yourself?   \n",
       "2           2  i'm pretty good. thanks for asking.   \n",
       "3           3    no problem. so how have you been?   \n",
       "4           4     i've been great. what about you?   \n",
       "\n",
       "                                     answer  \n",
       "0             i'm fine. how about yourself?  \n",
       "1       i'm pretty good. thanks for asking.  \n",
       "2         no problem. so how have you been?  \n",
       "3          i've been great. what about you?  \n",
       "4  i've been good. i'm in school right now.  "
      ]
     },
     "execution_count": 4,
     "metadata": {},
     "output_type": "execute_result"
    }
   ],
   "source": [
    "df_data.head()"
   ]
  },
  {
   "cell_type": "code",
   "execution_count": 5,
   "id": "b9d8e4ab-fa49-4cfa-b6db-cef1d6ecba48",
   "metadata": {},
   "outputs": [],
   "source": [
    "df_data.drop(columns=['Unnamed: 0'],inplace=True)"
   ]
  },
  {
   "cell_type": "code",
   "execution_count": 6,
   "id": "72342066-cfa2-4402-a019-d45b470bd296",
   "metadata": {},
   "outputs": [
    {
     "data": {
      "text/html": [
       "<div>\n",
       "<style scoped>\n",
       "    .dataframe tbody tr th:only-of-type {\n",
       "        vertical-align: middle;\n",
       "    }\n",
       "\n",
       "    .dataframe tbody tr th {\n",
       "        vertical-align: top;\n",
       "    }\n",
       "\n",
       "    .dataframe thead th {\n",
       "        text-align: right;\n",
       "    }\n",
       "</style>\n",
       "<table border=\"1\" class=\"dataframe\">\n",
       "  <thead>\n",
       "    <tr style=\"text-align: right;\">\n",
       "      <th></th>\n",
       "      <th>question</th>\n",
       "      <th>answer</th>\n",
       "    </tr>\n",
       "  </thead>\n",
       "  <tbody>\n",
       "    <tr>\n",
       "      <th>0</th>\n",
       "      <td>hi, how are you doing?</td>\n",
       "      <td>i'm fine. how about yourself?</td>\n",
       "    </tr>\n",
       "    <tr>\n",
       "      <th>1</th>\n",
       "      <td>i'm fine. how about yourself?</td>\n",
       "      <td>i'm pretty good. thanks for asking.</td>\n",
       "    </tr>\n",
       "    <tr>\n",
       "      <th>2</th>\n",
       "      <td>i'm pretty good. thanks for asking.</td>\n",
       "      <td>no problem. so how have you been?</td>\n",
       "    </tr>\n",
       "    <tr>\n",
       "      <th>3</th>\n",
       "      <td>no problem. so how have you been?</td>\n",
       "      <td>i've been great. what about you?</td>\n",
       "    </tr>\n",
       "    <tr>\n",
       "      <th>4</th>\n",
       "      <td>i've been great. what about you?</td>\n",
       "      <td>i've been good. i'm in school right now.</td>\n",
       "    </tr>\n",
       "  </tbody>\n",
       "</table>\n",
       "</div>"
      ],
      "text/plain": [
       "                              question  \\\n",
       "0               hi, how are you doing?   \n",
       "1        i'm fine. how about yourself?   \n",
       "2  i'm pretty good. thanks for asking.   \n",
       "3    no problem. so how have you been?   \n",
       "4     i've been great. what about you?   \n",
       "\n",
       "                                     answer  \n",
       "0             i'm fine. how about yourself?  \n",
       "1       i'm pretty good. thanks for asking.  \n",
       "2         no problem. so how have you been?  \n",
       "3          i've been great. what about you?  \n",
       "4  i've been good. i'm in school right now.  "
      ]
     },
     "execution_count": 6,
     "metadata": {},
     "output_type": "execute_result"
    }
   ],
   "source": [
    "df_data.head()"
   ]
  },
  {
   "cell_type": "code",
   "execution_count": 7,
   "id": "e202eb79-9050-41db-901f-edbedea83dd7",
   "metadata": {},
   "outputs": [],
   "source": [
    "df_train, df_test = train_test_split(df_data,test_size = 0.2, random_state=GLOBAL_SEED)"
   ]
  },
  {
   "cell_type": "code",
   "execution_count": 8,
   "id": "84d58709-521a-4c6c-8b5d-0dc74e102b57",
   "metadata": {},
   "outputs": [
    {
     "data": {
      "text/html": [
       "<div>\n",
       "<style scoped>\n",
       "    .dataframe tbody tr th:only-of-type {\n",
       "        vertical-align: middle;\n",
       "    }\n",
       "\n",
       "    .dataframe tbody tr th {\n",
       "        vertical-align: top;\n",
       "    }\n",
       "\n",
       "    .dataframe thead th {\n",
       "        text-align: right;\n",
       "    }\n",
       "</style>\n",
       "<table border=\"1\" class=\"dataframe\">\n",
       "  <thead>\n",
       "    <tr style=\"text-align: right;\">\n",
       "      <th></th>\n",
       "      <th>question</th>\n",
       "      <th>answer</th>\n",
       "    </tr>\n",
       "  </thead>\n",
       "  <tbody>\n",
       "    <tr>\n",
       "      <th>2497</th>\n",
       "      <td>why is that?</td>\n",
       "      <td>because he likes to scuba dive.</td>\n",
       "    </tr>\n",
       "    <tr>\n",
       "      <th>1185</th>\n",
       "      <td>yes, it's just a couple of screws.</td>\n",
       "      <td>that's nice.</td>\n",
       "    </tr>\n",
       "    <tr>\n",
       "      <th>1596</th>\n",
       "      <td>what is gravity?</td>\n",
       "      <td>it's the force that pulls everything down.</td>\n",
       "    </tr>\n",
       "    <tr>\n",
       "      <th>408</th>\n",
       "      <td>would you like to see a movie with me and my f...</td>\n",
       "      <td>do you know what movie you're going to watch?</td>\n",
       "    </tr>\n",
       "    <tr>\n",
       "      <th>2934</th>\n",
       "      <td>yes, and they ask me what jobs are the best.</td>\n",
       "      <td>i tell my students to become a teacher.</td>\n",
       "    </tr>\n",
       "    <tr>\n",
       "      <th>...</th>\n",
       "      <td>...</td>\n",
       "      <td>...</td>\n",
       "    </tr>\n",
       "    <tr>\n",
       "      <th>2394</th>\n",
       "      <td>then stop eating the bread!</td>\n",
       "      <td>okay, just one more piece. pass the butter, pl...</td>\n",
       "    </tr>\n",
       "    <tr>\n",
       "      <th>1995</th>\n",
       "      <td>people will tell you if they have a good hand.</td>\n",
       "      <td>how do they do that?</td>\n",
       "    </tr>\n",
       "    <tr>\n",
       "      <th>709</th>\n",
       "      <td>we should hang out some time.</td>\n",
       "      <td>i think that would be nice.</td>\n",
       "    </tr>\n",
       "    <tr>\n",
       "      <th>343</th>\n",
       "      <td>that's exactly how i felt.</td>\n",
       "      <td>i got the movie when it came out on dvd, do yo...</td>\n",
       "    </tr>\n",
       "    <tr>\n",
       "      <th>2131</th>\n",
       "      <td>he gave $100 to people in wheelchairs.</td>\n",
       "      <td>what about the other homeless people?</td>\n",
       "    </tr>\n",
       "  </tbody>\n",
       "</table>\n",
       "<p>745 rows × 2 columns</p>\n",
       "</div>"
      ],
      "text/plain": [
       "                                               question  \\\n",
       "2497                                       why is that?   \n",
       "1185                 yes, it's just a couple of screws.   \n",
       "1596                                   what is gravity?   \n",
       "408   would you like to see a movie with me and my f...   \n",
       "2934       yes, and they ask me what jobs are the best.   \n",
       "...                                                 ...   \n",
       "2394                        then stop eating the bread!   \n",
       "1995     people will tell you if they have a good hand.   \n",
       "709                       we should hang out some time.   \n",
       "343                          that's exactly how i felt.   \n",
       "2131             he gave $100 to people in wheelchairs.   \n",
       "\n",
       "                                                 answer  \n",
       "2497                    because he likes to scuba dive.  \n",
       "1185                                       that's nice.  \n",
       "1596         it's the force that pulls everything down.  \n",
       "408       do you know what movie you're going to watch?  \n",
       "2934            i tell my students to become a teacher.  \n",
       "...                                                 ...  \n",
       "2394  okay, just one more piece. pass the butter, pl...  \n",
       "1995                               how do they do that?  \n",
       "709                         i think that would be nice.  \n",
       "343   i got the movie when it came out on dvd, do yo...  \n",
       "2131              what about the other homeless people?  \n",
       "\n",
       "[745 rows x 2 columns]"
      ]
     },
     "execution_count": 8,
     "metadata": {},
     "output_type": "execute_result"
    }
   ],
   "source": [
    "df_test"
   ]
  },
  {
   "cell_type": "code",
   "execution_count": 19,
   "id": "fd13e6aa-a90b-4ea8-9911-afc0a46a0739",
   "metadata": {},
   "outputs": [],
   "source": [
    "from transformers import T5Tokenizer\n",
    "\n",
    "model_max_length=512\n",
    "INPUT_MAX_LEN=128\n",
    "\n",
    "tokenizer_base = T5Tokenizer.from_pretrained(\"t5-base\", model_max_length=model_max_length)\n",
    "tokenizer_small = T5Tokenizer.from_pretrained(\"t5-small\", model_max_length=model_max_length)\n",
    "\n",
    "def generate_question(question, tokenizer, model):\n",
    "\n",
    "    inputs_encoding =  tokenizer(\n",
    "        question,\n",
    "        add_special_tokens=True,\n",
    "        max_length= INPUT_MAX_LEN,\n",
    "        padding = 'max_length',\n",
    "        truncation='only_first',\n",
    "        return_attention_mask=True,\n",
    "        return_tensors=\"pt\"\n",
    "        )\n",
    "\n",
    "    \n",
    "    generate_ids = model.model.generate(\n",
    "        input_ids = inputs_encoding[\"input_ids\"],\n",
    "        attention_mask = inputs_encoding[\"attention_mask\"],\n",
    "        max_length = INPUT_MAX_LEN,\n",
    "        num_beams = 4,\n",
    "        num_return_sequences = 1,\n",
    "        no_repeat_ngram_size=2,\n",
    "        early_stopping=True,\n",
    "        )\n",
    "\n",
    "    preds = [\n",
    "        tokenizer.decode(gen_id,\n",
    "        skip_special_tokens=True, \n",
    "        clean_up_tokenization_spaces=True)\n",
    "        for gen_id in generate_ids\n",
    "    ]\n",
    "\n",
    "    return \"\".join(preds)"
   ]
  },
  {
   "cell_type": "code",
   "execution_count": 10,
   "id": "703a707c-eb0e-4064-acb3-52c81060c0c3",
   "metadata": {},
   "outputs": [
    {
     "name": "stderr",
     "output_type": "stream",
     "text": [
      "2023-12-04 20:29:04.014112: I tensorflow/tsl/cuda/cudart_stub.cc:28] Could not find cuda drivers on your machine, GPU will not be used.\n",
      "2023-12-04 20:29:04.340209: E tensorflow/compiler/xla/stream_executor/cuda/cuda_dnn.cc:9342] Unable to register cuDNN factory: Attempting to register factory for plugin cuDNN when one has already been registered\n",
      "2023-12-04 20:29:04.340262: E tensorflow/compiler/xla/stream_executor/cuda/cuda_fft.cc:609] Unable to register cuFFT factory: Attempting to register factory for plugin cuFFT when one has already been registered\n",
      "2023-12-04 20:29:04.341807: E tensorflow/compiler/xla/stream_executor/cuda/cuda_blas.cc:1518] Unable to register cuBLAS factory: Attempting to register factory for plugin cuBLAS when one has already been registered\n",
      "2023-12-04 20:29:04.505628: I tensorflow/tsl/cuda/cudart_stub.cc:28] Could not find cuda drivers on your machine, GPU will not be used.\n",
      "2023-12-04 20:29:04.507627: I tensorflow/core/platform/cpu_feature_guard.cc:182] This TensorFlow binary is optimized to use available CPU instructions in performance-critical operations.\n",
      "To enable the following instructions: AVX2 FMA, in other operations, rebuild TensorFlow with the appropriate compiler flags.\n",
      "2023-12-04 20:29:05.890290: W tensorflow/compiler/tf2tensorrt/utils/py_utils.cc:38] TF-TRT Warning: Could not find TensorRT\n"
     ]
    }
   ],
   "source": [
    "import sentence_transformers\n",
    "\n",
    "from sentence_transformers import SentenceTransformer, util\n",
    "sentence_model = SentenceTransformer('all-MiniLM-L6-v2')"
   ]
  },
  {
   "cell_type": "code",
   "execution_count": 11,
   "id": "30f2f961-0ebe-4e61-a689-e25952d0975b",
   "metadata": {},
   "outputs": [],
   "source": [
    "df_test.reset_index(drop=True, inplace=True)"
   ]
  },
  {
   "cell_type": "code",
   "execution_count": 12,
   "id": "089ff9ec-85d8-439f-a7e3-48afa489fba9",
   "metadata": {},
   "outputs": [
    {
     "data": {
      "text/html": [
       "<div>\n",
       "<style scoped>\n",
       "    .dataframe tbody tr th:only-of-type {\n",
       "        vertical-align: middle;\n",
       "    }\n",
       "\n",
       "    .dataframe tbody tr th {\n",
       "        vertical-align: top;\n",
       "    }\n",
       "\n",
       "    .dataframe thead th {\n",
       "        text-align: right;\n",
       "    }\n",
       "</style>\n",
       "<table border=\"1\" class=\"dataframe\">\n",
       "  <thead>\n",
       "    <tr style=\"text-align: right;\">\n",
       "      <th></th>\n",
       "      <th>question</th>\n",
       "      <th>answer</th>\n",
       "    </tr>\n",
       "  </thead>\n",
       "  <tbody>\n",
       "    <tr>\n",
       "      <th>0</th>\n",
       "      <td>why is that?</td>\n",
       "      <td>because he likes to scuba dive.</td>\n",
       "    </tr>\n",
       "    <tr>\n",
       "      <th>1</th>\n",
       "      <td>yes, it's just a couple of screws.</td>\n",
       "      <td>that's nice.</td>\n",
       "    </tr>\n",
       "    <tr>\n",
       "      <th>2</th>\n",
       "      <td>what is gravity?</td>\n",
       "      <td>it's the force that pulls everything down.</td>\n",
       "    </tr>\n",
       "    <tr>\n",
       "      <th>3</th>\n",
       "      <td>would you like to see a movie with me and my f...</td>\n",
       "      <td>do you know what movie you're going to watch?</td>\n",
       "    </tr>\n",
       "    <tr>\n",
       "      <th>4</th>\n",
       "      <td>yes, and they ask me what jobs are the best.</td>\n",
       "      <td>i tell my students to become a teacher.</td>\n",
       "    </tr>\n",
       "  </tbody>\n",
       "</table>\n",
       "</div>"
      ],
      "text/plain": [
       "                                            question  \\\n",
       "0                                       why is that?   \n",
       "1                 yes, it's just a couple of screws.   \n",
       "2                                   what is gravity?   \n",
       "3  would you like to see a movie with me and my f...   \n",
       "4       yes, and they ask me what jobs are the best.   \n",
       "\n",
       "                                          answer  \n",
       "0                because he likes to scuba dive.  \n",
       "1                                   that's nice.  \n",
       "2     it's the force that pulls everything down.  \n",
       "3  do you know what movie you're going to watch?  \n",
       "4        i tell my students to become a teacher.  "
      ]
     },
     "execution_count": 12,
     "metadata": {},
     "output_type": "execute_result"
    }
   ],
   "source": [
    "df_test.head()"
   ]
  },
  {
   "cell_type": "code",
   "execution_count": 13,
   "id": "5eb32dab-beb2-4ac0-89a3-476623b8995c",
   "metadata": {},
   "outputs": [
    {
     "name": "stderr",
     "output_type": "stream",
     "text": [
      "Lightning automatically upgraded your loaded checkpoint from v1.5.10 to v2.1.2. To apply the upgrade to your files permanently, run `python -m pytorch_lightning.utilities.upgrade_checkpoint output_base/best-model-v1.ckpt`\n"
     ]
    },
    {
     "ename": "NameError",
     "evalue": "name 'model' is not defined",
     "output_type": "error",
     "traceback": [
      "\u001b[0;31m---------------------------------------------------------------------------\u001b[0m",
      "\u001b[0;31mNameError\u001b[0m                                 Traceback (most recent call last)",
      "\u001b[0;32m/tmp/ipykernel_21216/661472081.py\u001b[0m in \u001b[0;36m<module>\u001b[0;34m\u001b[0m\n\u001b[1;32m      4\u001b[0m \u001b[0mmodel_base\u001b[0m \u001b[0;34m=\u001b[0m \u001b[0mT5Model\u001b[0m\u001b[0;34m.\u001b[0m\u001b[0mload_from_checkpoint\u001b[0m\u001b[0;34m(\u001b[0m\u001b[0mcheckpoint_base\u001b[0m\u001b[0;34m)\u001b[0m\u001b[0;34m\u001b[0m\u001b[0;34m\u001b[0m\u001b[0m\n\u001b[1;32m      5\u001b[0m \u001b[0;34m\u001b[0m\u001b[0m\n\u001b[0;32m----> 6\u001b[0;31m \u001b[0mmodel\u001b[0m\u001b[0;34m.\u001b[0m\u001b[0mfreeze\u001b[0m\u001b[0;34m(\u001b[0m\u001b[0;34m)\u001b[0m\u001b[0;34m\u001b[0m\u001b[0;34m\u001b[0m\u001b[0m\n\u001b[0m",
      "\u001b[0;31mNameError\u001b[0m: name 'model' is not defined"
     ]
    }
   ],
   "source": [
    "# Load base model\n",
    "from model_base import T5Model\n",
    "checkpoint_base = \"./output_base/best-model-v1.ckpt\"\n",
    "model_base = T5Model.load_from_checkpoint(checkpoint_base)"
   ]
  },
  {
   "cell_type": "code",
   "execution_count": 15,
   "id": "da2300e4-6aa6-46de-bf00-592960800b90",
   "metadata": {},
   "outputs": [],
   "source": [
    "model_base.freeze()"
   ]
  },
  {
   "cell_type": "code",
   "execution_count": 71,
   "id": "541644dc-0f77-4a01-8f62-a771d5680720",
   "metadata": {},
   "outputs": [
    {
     "name": "stderr",
     "output_type": "stream",
     "text": [
      "Lightning automatically upgraded your loaded checkpoint from v1.5.10 to v2.1.2. To apply the upgrade to your files permanently, run `python -m pytorch_lightning.utilities.upgrade_checkpoint output_small/best-model-v1.ckpt`\n"
     ]
    }
   ],
   "source": [
    "# Load small model\n",
    "from model_small import T5Model\n",
    "checkpoint_base = \"./output_small/best-model-v1.ckpt\"\n",
    "model_small = T5Model.load_from_checkpoint(checkpoint_base)\n",
    "model_small.freeze()"
   ]
  },
  {
   "cell_type": "code",
   "execution_count": 17,
   "id": "a58cb9ac-9dc9-42c8-8fe1-98f66007c606",
   "metadata": {},
   "outputs": [],
   "source": [
    "def apply_small(x):\n",
    "    answer = generate_question(x, tokenizer_small, model_small)\n",
    "    return answer\n",
    "    \n",
    "def apply_base(x):\n",
    "    answer = generate_question(x, tokenizer_base, model_base)\n",
    "    return answer"
   ]
  },
  {
   "cell_type": "code",
   "execution_count": 27,
   "id": "e1065298-8780-4160-b273-6abfe0503d47",
   "metadata": {},
   "outputs": [
    {
     "name": "stdout",
     "output_type": "stream",
     "text": [
      "Processing 0 sample...\n",
      "Processing 50 sample...\n",
      "Processing 100 sample...\n",
      "Processing 150 sample...\n",
      "Processing 200 sample...\n",
      "Processing 250 sample...\n",
      "Processing 300 sample...\n",
      "Processing 350 sample...\n",
      "Processing 400 sample...\n",
      "Processing 450 sample...\n",
      "Processing 500 sample...\n",
      "Processing 550 sample...\n",
      "Processing 600 sample...\n",
      "Processing 650 sample...\n",
      "Processing 700 sample...\n"
     ]
    }
   ],
   "source": [
    "base_predictions = []\n",
    "for i, item in enumerate(df_test.iloc()):\n",
    "    prediction = generate_question(item[\"question\"], tokenizer_base, model_base)\n",
    "    base_predictions.append(prediction)\n",
    "    if i%50==0:\n",
    "        print(\"Processing {} sample...\".format(i))"
   ]
  },
  {
   "cell_type": "code",
   "execution_count": 72,
   "id": "a231c44e-f444-41ee-9536-24c167cae273",
   "metadata": {},
   "outputs": [
    {
     "name": "stdout",
     "output_type": "stream",
     "text": [
      "Processing 0 sample...\n",
      "Processing 50 sample...\n",
      "Processing 100 sample...\n",
      "Processing 150 sample...\n",
      "Processing 200 sample...\n",
      "Processing 250 sample...\n",
      "Processing 300 sample...\n",
      "Processing 350 sample...\n",
      "Processing 400 sample...\n",
      "Processing 450 sample...\n",
      "Processing 500 sample...\n",
      "Processing 550 sample...\n",
      "Processing 600 sample...\n",
      "Processing 650 sample...\n",
      "Processing 700 sample...\n"
     ]
    }
   ],
   "source": [
    "small_predictions = []\n",
    "for i, item in enumerate(df_test.iloc()):\n",
    "    prediction = generate_question(item[\"question\"], tokenizer_small, model_small)\n",
    "    small_predictions.append(prediction)\n",
    "    if i%50==0:\n",
    "        print(\"Processing {} sample...\".format(i))"
   ]
  },
  {
   "cell_type": "code",
   "execution_count": 31,
   "id": "43a6457b-0517-4f61-8151-c49b8afa5f6d",
   "metadata": {},
   "outputs": [
    {
     "data": {
      "text/html": [
       "<div>\n",
       "<style scoped>\n",
       "    .dataframe tbody tr th:only-of-type {\n",
       "        vertical-align: middle;\n",
       "    }\n",
       "\n",
       "    .dataframe tbody tr th {\n",
       "        vertical-align: top;\n",
       "    }\n",
       "\n",
       "    .dataframe thead th {\n",
       "        text-align: right;\n",
       "    }\n",
       "</style>\n",
       "<table border=\"1\" class=\"dataframe\">\n",
       "  <thead>\n",
       "    <tr style=\"text-align: right;\">\n",
       "      <th></th>\n",
       "      <th>question</th>\n",
       "      <th>answer</th>\n",
       "    </tr>\n",
       "  </thead>\n",
       "  <tbody>\n",
       "    <tr>\n",
       "      <th>0</th>\n",
       "      <td>why is that?</td>\n",
       "      <td>because he likes to scuba dive.</td>\n",
       "    </tr>\n",
       "    <tr>\n",
       "      <th>1</th>\n",
       "      <td>yes, it's just a couple of screws.</td>\n",
       "      <td>that's nice.</td>\n",
       "    </tr>\n",
       "    <tr>\n",
       "      <th>2</th>\n",
       "      <td>what is gravity?</td>\n",
       "      <td>it's the force that pulls everything down.</td>\n",
       "    </tr>\n",
       "    <tr>\n",
       "      <th>3</th>\n",
       "      <td>would you like to see a movie with me and my f...</td>\n",
       "      <td>do you know what movie you're going to watch?</td>\n",
       "    </tr>\n",
       "    <tr>\n",
       "      <th>4</th>\n",
       "      <td>yes, and they ask me what jobs are the best.</td>\n",
       "      <td>i tell my students to become a teacher.</td>\n",
       "    </tr>\n",
       "    <tr>\n",
       "      <th>5</th>\n",
       "      <td>did you have a date friday night?</td>\n",
       "      <td>yes, in fact, i did.</td>\n",
       "    </tr>\n",
       "    <tr>\n",
       "      <th>6</th>\n",
       "      <td>i'll squeeze the cloth so it's almost dry.</td>\n",
       "      <td>don't rub the numbers off the remote.</td>\n",
       "    </tr>\n",
       "    <tr>\n",
       "      <th>7</th>\n",
       "      <td>how good is your math?</td>\n",
       "      <td>i can add two and two.</td>\n",
       "    </tr>\n",
       "    <tr>\n",
       "      <th>8</th>\n",
       "      <td>what about the other homeless people?</td>\n",
       "      <td>they got $1 each.</td>\n",
       "    </tr>\n",
       "    <tr>\n",
       "      <th>9</th>\n",
       "      <td>what did they do in the old days?</td>\n",
       "      <td>they brushed with their fingers.</td>\n",
       "    </tr>\n",
       "    <tr>\n",
       "      <th>10</th>\n",
       "      <td>i'll vote for him next time, too.</td>\n",
       "      <td>i think everyone will.</td>\n",
       "    </tr>\n",
       "    <tr>\n",
       "      <th>11</th>\n",
       "      <td>that's such a hassle.</td>\n",
       "      <td>i knew you didn't love me.</td>\n",
       "    </tr>\n",
       "    <tr>\n",
       "      <th>12</th>\n",
       "      <td>i didn't love you at first.</td>\n",
       "      <td>i know. i had to chase you for a while.</td>\n",
       "    </tr>\n",
       "    <tr>\n",
       "      <th>13</th>\n",
       "      <td>what are you getting for your mom?</td>\n",
       "      <td>what are you talking about?</td>\n",
       "    </tr>\n",
       "    <tr>\n",
       "      <th>14</th>\n",
       "      <td>i guess you see lots of different dogs.</td>\n",
       "      <td>we don't even know what kind most of them are.</td>\n",
       "    </tr>\n",
       "    <tr>\n",
       "      <th>15</th>\n",
       "      <td>oh, a laptop, of course.</td>\n",
       "      <td>a pc or a mac?</td>\n",
       "    </tr>\n",
       "    <tr>\n",
       "      <th>16</th>\n",
       "      <td>i have only a few friends.</td>\n",
       "      <td>you must be lonely. i will share my friends wi...</td>\n",
       "    </tr>\n",
       "    <tr>\n",
       "      <th>17</th>\n",
       "      <td>there's no food in the woods.</td>\n",
       "      <td>can't they eat grass?</td>\n",
       "    </tr>\n",
       "    <tr>\n",
       "      <th>18</th>\n",
       "      <td>why's that?</td>\n",
       "      <td>a hospital is the most dangerous place in the ...</td>\n",
       "    </tr>\n",
       "    <tr>\n",
       "      <th>19</th>\n",
       "      <td>i'm actually in school right now.</td>\n",
       "      <td>which school do you attend?</td>\n",
       "    </tr>\n",
       "  </tbody>\n",
       "</table>\n",
       "</div>"
      ],
      "text/plain": [
       "                                             question  \\\n",
       "0                                        why is that?   \n",
       "1                  yes, it's just a couple of screws.   \n",
       "2                                    what is gravity?   \n",
       "3   would you like to see a movie with me and my f...   \n",
       "4        yes, and they ask me what jobs are the best.   \n",
       "5                   did you have a date friday night?   \n",
       "6          i'll squeeze the cloth so it's almost dry.   \n",
       "7                              how good is your math?   \n",
       "8               what about the other homeless people?   \n",
       "9                   what did they do in the old days?   \n",
       "10                  i'll vote for him next time, too.   \n",
       "11                              that's such a hassle.   \n",
       "12                        i didn't love you at first.   \n",
       "13                 what are you getting for your mom?   \n",
       "14            i guess you see lots of different dogs.   \n",
       "15                           oh, a laptop, of course.   \n",
       "16                         i have only a few friends.   \n",
       "17                      there's no food in the woods.   \n",
       "18                                        why's that?   \n",
       "19                  i'm actually in school right now.   \n",
       "\n",
       "                                               answer  \n",
       "0                     because he likes to scuba dive.  \n",
       "1                                        that's nice.  \n",
       "2          it's the force that pulls everything down.  \n",
       "3       do you know what movie you're going to watch?  \n",
       "4             i tell my students to become a teacher.  \n",
       "5                                yes, in fact, i did.  \n",
       "6               don't rub the numbers off the remote.  \n",
       "7                              i can add two and two.  \n",
       "8                                   they got $1 each.  \n",
       "9                    they brushed with their fingers.  \n",
       "10                             i think everyone will.  \n",
       "11                         i knew you didn't love me.  \n",
       "12            i know. i had to chase you for a while.  \n",
       "13                        what are you talking about?  \n",
       "14     we don't even know what kind most of them are.  \n",
       "15                                     a pc or a mac?  \n",
       "16  you must be lonely. i will share my friends wi...  \n",
       "17                              can't they eat grass?  \n",
       "18  a hospital is the most dangerous place in the ...  \n",
       "19                        which school do you attend?  "
      ]
     },
     "execution_count": 31,
     "metadata": {},
     "output_type": "execute_result"
    }
   ],
   "source": [
    "df_test.head(20)"
   ]
  },
  {
   "cell_type": "code",
   "execution_count": 32,
   "id": "260ba76f-c781-4871-8eb3-e5422f20a981",
   "metadata": {},
   "outputs": [
    {
     "data": {
      "text/plain": [
       "['why is that?',\n",
       " \"yes, it's just a couple of screws.\",\n",
       " 'what is gravity?',\n",
       " 'would you like to see a movie with me?',\n",
       " 'they ask me what jobs are the best.',\n",
       " 'did you have a date friday night?',\n",
       " \"i'll squeeze the cloth so it's almost dry.\",\n",
       " \"i'm a mathematician.\",\n",
       " 'what about the other homeless people?',\n",
       " 'what did they do in the old days?',\n",
       " \"i'll vote for him next time.\",\n",
       " \"oh,that's a lot of work.\",\n",
       " \"i didn't love you at first.\",\n",
       " 'what are you getting for your mom?',\n",
       " 'i guess you see lots of different dogs.',\n",
       " 'oh, a laptop.',\n",
       " 'i have a lot of friends.',\n",
       " \"there's no food in the woods.\",\n",
       " \"why's that?\",\n",
       " \"i'm actually in school right now.\"]"
      ]
     },
     "execution_count": 32,
     "metadata": {},
     "output_type": "execute_result"
    }
   ],
   "source": [
    "base_predictions[:20]"
   ]
  },
  {
   "cell_type": "code",
   "execution_count": 56,
   "id": "f913a17a-b4f3-4257-843f-88554f03c549",
   "metadata": {},
   "outputs": [
    {
     "name": "stdout",
     "output_type": "stream",
     "text": [
      "why is that?\n",
      "because he likes to scuba dive.\n",
      "yes, it's just a couple of screws.\n",
      "that's nice.\n",
      "what is gravity?\n",
      "it's the force that pulls everything down.\n",
      "would you like to see a movie with me and my friend?\n",
      "do you know what movie you're going to watch?\n",
      "yes, and they ask me what jobs are the best.\n",
      "i tell my students to become a teacher.\n",
      "did you have a date friday night?\n",
      "yes, in fact, i did.\n",
      "i'll squeeze the cloth so it's almost dry.\n",
      "don't rub the numbers off the remote.\n",
      "how good is your math?\n",
      "i can add two and two.\n",
      "what about the other homeless people?\n",
      "they got $1 each.\n",
      "what did they do in the old days?\n",
      "they brushed with their fingers.\n",
      "i'll vote for him next time, too.\n",
      "i think everyone will.\n"
     ]
    }
   ],
   "source": [
    "compute_similarity(df_test)"
   ]
  },
  {
   "cell_type": "code",
   "execution_count": 34,
   "id": "a5de3e3e-fa15-43bc-8738-0584414ee8dc",
   "metadata": {},
   "outputs": [],
   "source": [
    "answer_vector = sentence_model.encode(df_test[\"answer\"])"
   ]
  },
  {
   "cell_type": "code",
   "execution_count": 35,
   "id": "931ff5ea-de0d-4dd6-996a-0b7323e96fe7",
   "metadata": {},
   "outputs": [],
   "source": [
    "prediction_vector = sentence_model.encode(base_predictions)"
   ]
  },
  {
   "cell_type": "code",
   "execution_count": 73,
   "id": "94b5d016-f976-44c6-adea-9d978a44da0f",
   "metadata": {},
   "outputs": [],
   "source": [
    "prediction_small_vector = sentence_model.encode(small_predictions)"
   ]
  },
  {
   "cell_type": "code",
   "execution_count": null,
   "id": "9b061e65-8142-4312-94ff-b1efbd3645f3",
   "metadata": {},
   "outputs": [],
   "source": []
  },
  {
   "cell_type": "code",
   "execution_count": 38,
   "id": "0a58a101-8957-4942-9ae0-6a113a940c36",
   "metadata": {},
   "outputs": [
    {
     "data": {
      "text/plain": [
       "(745, 384)"
      ]
     },
     "execution_count": 38,
     "metadata": {},
     "output_type": "execute_result"
    }
   ],
   "source": [
    "answer_vector.shape"
   ]
  },
  {
   "cell_type": "code",
   "execution_count": 39,
   "id": "3acfb3cc-ff68-41dd-bf90-b4a85090e349",
   "metadata": {},
   "outputs": [
    {
     "data": {
      "text/plain": [
       "(745, 384)"
      ]
     },
     "execution_count": 39,
     "metadata": {},
     "output_type": "execute_result"
    }
   ],
   "source": [
    "prediction_vector.shape"
   ]
  },
  {
   "cell_type": "code",
   "execution_count": 66,
   "id": "e6386a8c-6466-4de2-9ea8-a69ae7c825b6",
   "metadata": {},
   "outputs": [
    {
     "data": {
      "text/plain": [
       "array([[ 0.25152558, -0.03182962,  0.12607825, ...,  0.05353519,\n",
       "        -0.05841985,  0.15446049],\n",
       "       [ 0.27841437,  0.0684548 , -0.01234981, ...,  0.19492339,\n",
       "         0.285271  ,  0.11401501],\n",
       "       [ 0.10283864,  0.2692343 ,  0.4709503 , ..., -0.04800774,\n",
       "         0.07018243,  0.09085122],\n",
       "       ...,\n",
       "       [ 0.15157326,  0.04200397, -0.00964552, ...,  0.30294895,\n",
       "         0.07840977,  0.12722413],\n",
       "       [ 0.05075088,  0.08448079, -0.00048497, ...,  0.25835937,\n",
       "         0.06951929,  0.00096918],\n",
       "       [ 0.05121026,  0.05309503, -0.02351586, ...,  0.25202045,\n",
       "         0.05000186,  0.28681558]], dtype=float32)"
      ]
     },
     "execution_count": 66,
     "metadata": {},
     "output_type": "execute_result"
    }
   ],
   "source": [
    "from numpy import dot\n",
    "from numpy.linalg import norm\n",
    "\n",
    "def cossim(a, b):\n",
    "    result = dot(a, b)/(norm(a)*norm(b))\n",
    "    return result\n",
    "\n",
    "def compute_avg_cosine(A, B):\n",
    "    result = 0\n",
    "    rows = A.shape[0]\n",
    "    for i, row in enumerate(A):\n",
    "        result+= cossim(row, B[i])\n",
    "    return result/rows\n",
    "        \n",
    "cosine_similarity(answer_vector, prediction_vector)"
   ]
  },
  {
   "cell_type": "code",
   "execution_count": 67,
   "id": "f7d586a1-f727-4f90-9813-5c33944d6fb0",
   "metadata": {},
   "outputs": [
    {
     "data": {
      "text/plain": [
       "array([[ 0.07738902, -0.01598553,  0.09356439, ...,  0.02156039,\n",
       "        -0.01761158,  0.0055808 ],\n",
       "       [-0.02764896,  0.01042169, -0.01288704, ...,  0.01883932,\n",
       "        -0.03664861,  0.03056649],\n",
       "       [ 0.01224554,  0.00328223,  0.02998877, ..., -0.02520691,\n",
       "         0.06890911,  0.03179877],\n",
       "       ...,\n",
       "       [-0.13381524,  0.00215585, -0.05557879, ..., -0.01614939,\n",
       "        -0.10556188, -0.0128924 ],\n",
       "       [-0.0835367 , -0.04664869, -0.02752446, ..., -0.0638754 ,\n",
       "         0.00492482, -0.01165556],\n",
       "       [ 0.06787718, -0.00944726,  0.01494324, ..., -0.07249399,\n",
       "        -0.02249984,  0.09651412]], dtype=float32)"
      ]
     },
     "execution_count": 67,
     "metadata": {},
     "output_type": "execute_result"
    }
   ],
   "source": [
    "answer_vector"
   ]
  },
  {
   "cell_type": "code",
   "execution_count": 68,
   "id": "c4f1b0e8-eebc-45ad-a6a3-ea030ed19bc8",
   "metadata": {},
   "outputs": [
    {
     "data": {
      "text/plain": [
       "array([ 7.73890242e-02, -1.59855317e-02,  9.35643911e-02,  3.82473134e-02,\n",
       "        4.37900797e-02, -5.53101078e-02,  1.06111273e-01,  1.71032399e-02,\n",
       "        2.60586869e-02, -2.24619284e-02, -1.23359961e-03, -4.07568738e-02,\n",
       "       -6.84753284e-02,  9.01143923e-02, -1.54969906e-02, -2.31417385e-03,\n",
       "       -4.27377298e-02, -4.12318520e-02, -7.29267895e-02, -1.06356954e-02,\n",
       "        1.40269883e-02,  1.16701029e-01,  4.98836376e-02, -2.91447863e-02,\n",
       "       -1.02798045e-01,  1.79176256e-02,  5.92196500e-03, -1.34642171e-02,\n",
       "        8.83340389e-02,  1.84182767e-02,  3.20716538e-02,  2.72572245e-02,\n",
       "       -1.77700457e-03, -3.17084305e-02, -6.86899871e-02, -6.28071232e-03,\n",
       "       -8.10158718e-03,  5.18133417e-02, -7.63672516e-02,  9.90013685e-03,\n",
       "       -6.46607652e-02, -2.45913826e-02,  1.78806167e-02,  1.03679247e-01,\n",
       "       -5.43231964e-02, -1.36497719e-02, -5.67643680e-02,  1.32261193e-03,\n",
       "        1.44775510e-01,  6.53869957e-02, -4.22751531e-02, -2.08946671e-02,\n",
       "       -4.36832989e-03, -9.29135606e-02, -5.52303754e-02,  1.01431711e-02,\n",
       "       -6.81977645e-02,  2.08590571e-02,  1.27229206e-02, -5.53417578e-02,\n",
       "        7.57564157e-02,  2.69035771e-02, -6.64282367e-02,  9.31737199e-03,\n",
       "       -7.61128915e-03, -1.08496062e-01,  3.59014818e-03,  2.31818613e-02,\n",
       "       -2.16744822e-02,  5.43028116e-02,  3.42004560e-02,  2.97468808e-02,\n",
       "        5.02144173e-03,  1.36281764e-02, -7.10025057e-02, -8.99350271e-02,\n",
       "        3.84668186e-02, -2.00039167e-02,  5.21674119e-02,  4.05289605e-02,\n",
       "        7.21965581e-02, -4.61041033e-02, -3.92343197e-03,  4.90377024e-02,\n",
       "        2.13307217e-02,  2.75979340e-02,  2.23672856e-02, -1.13711119e-01,\n",
       "       -1.33131266e-01,  2.12205313e-02, -5.77691831e-02, -7.82394260e-02,\n",
       "       -7.32808858e-02, -5.42134494e-02, -7.61296898e-02, -3.50087918e-02,\n",
       "       -5.72006591e-02,  8.98478776e-02, -8.41955617e-02,  6.25126660e-02,\n",
       "        6.88256025e-02,  1.52075831e-02,  4.42534722e-02,  1.06930144e-01,\n",
       "        1.05642853e-02, -5.16533740e-02,  8.66493359e-02,  3.84584256e-02,\n",
       "        3.98557708e-02,  2.56826598e-02, -7.73119032e-02, -2.78732311e-02,\n",
       "        3.33198495e-02, -3.92571762e-02, -4.39604931e-03,  4.57437895e-02,\n",
       "       -1.07130736e-01, -1.40800718e-02, -9.65385213e-02,  2.86169723e-02,\n",
       "       -9.65880870e-04,  7.00451359e-02, -3.81434709e-02,  7.77043626e-02,\n",
       "        3.20880354e-04, -5.81729114e-02, -1.87788364e-02, -4.65159461e-33,\n",
       "        8.46121386e-02, -5.94097823e-02, -2.85151578e-03, -2.98439246e-02,\n",
       "        6.24395199e-02, -4.73688822e-03,  2.96952315e-02, -8.67176801e-02,\n",
       "       -4.82431985e-02,  5.55112027e-02, -6.45926744e-02,  1.87367126e-02,\n",
       "       -6.72978833e-02,  1.62789058e-02, -4.98186424e-02,  5.88296391e-02,\n",
       "        1.53214457e-02,  1.27201853e-02, -1.00484572e-01, -9.23228785e-02,\n",
       "        3.13094296e-02, -2.24265568e-02,  5.28378077e-02, -1.32386982e-02,\n",
       "        1.70152877e-02, -2.63212603e-02,  7.51701416e-03,  2.92294398e-02,\n",
       "        6.47095665e-02,  3.67287099e-02, -7.19256848e-02, -3.46013950e-03,\n",
       "       -6.33078963e-02, -3.05919852e-02,  7.08840117e-02,  1.68300271e-02,\n",
       "        4.20552976e-02, -5.50718345e-02, -2.20426079e-02,  3.03321406e-02,\n",
       "       -2.69561894e-02, -2.03067437e-02, -5.28936535e-02,  1.91865431e-03,\n",
       "       -7.42275491e-02, -4.40830849e-02,  2.40812711e-02,  7.48253167e-02,\n",
       "        7.31370151e-02, -7.01784622e-03,  1.09038979e-01, -1.69304702e-02,\n",
       "       -3.07019316e-02, -3.63459215e-02,  9.80069302e-03,  2.25269832e-02,\n",
       "        7.70465210e-02, -5.44778071e-04, -8.30340851e-03,  1.33807501e-02,\n",
       "       -8.28370452e-02,  1.02601759e-02,  5.36358869e-03,  4.34569232e-02,\n",
       "       -7.40905181e-02,  4.75686230e-02,  5.98329455e-02,  3.55501994e-02,\n",
       "       -3.35427448e-02, -3.24211456e-02, -4.51238416e-02,  4.33632359e-03,\n",
       "       -6.68134019e-02, -9.68059599e-02, -3.41961905e-02, -3.97606492e-02,\n",
       "       -2.23903675e-02,  7.60785257e-03,  5.57602458e-02, -3.05544604e-02,\n",
       "       -2.31729727e-02,  9.54766944e-02,  7.60297552e-02,  2.96241064e-02,\n",
       "       -5.28858751e-02,  1.99340805e-02, -2.63478924e-02, -2.39498611e-03,\n",
       "        2.25909743e-02,  5.40827401e-02,  6.58525201e-03, -5.34997024e-02,\n",
       "        5.65112289e-03, -8.74171332e-02,  2.15171799e-02,  1.46533057e-33,\n",
       "       -4.16656286e-02, -1.81278996e-02, -4.12298143e-02, -5.41914068e-03,\n",
       "        2.90337242e-02, -3.90173658e-03, -2.99603455e-02,  1.46565475e-02,\n",
       "        2.92602647e-02, -5.39876856e-02, -3.64437588e-02,  1.65617410e-02,\n",
       "       -1.58019451e-04, -3.34321968e-02,  1.31028786e-01, -1.21895373e-02,\n",
       "       -1.63155759e-03,  6.04625829e-02,  1.57967564e-02,  3.76453088e-03,\n",
       "        9.06780362e-02,  6.67961985e-02, -5.65197831e-03, -1.31732402e-02,\n",
       "       -1.09480612e-01,  3.38932425e-02, -1.72734000e-02,  1.32481020e-03,\n",
       "        2.74072979e-02,  1.81812365e-02,  1.17023010e-02,  7.22590759e-02,\n",
       "       -3.36262621e-02,  2.11483873e-02, -4.51152697e-02,  3.99274863e-02,\n",
       "       -1.51088625e-01,  9.50814486e-02, -6.75600469e-02,  1.41109098e-02,\n",
       "        5.72238006e-02, -4.79253083e-02,  1.71485409e-01, -2.15750188e-02,\n",
       "        1.25667071e-02,  4.71956208e-02,  7.23321289e-02, -3.11285034e-02,\n",
       "        4.28024214e-03, -4.69566248e-02, -2.69044414e-02, -2.77239159e-02,\n",
       "        3.93836871e-02,  3.32566574e-02,  1.81746501e-02,  1.75335929e-02,\n",
       "       -1.31615892e-01,  2.63611898e-02, -3.92194558e-03,  2.50495560e-02,\n",
       "        8.96153823e-02, -1.94567733e-03, -1.11097787e-02,  4.87963855e-02,\n",
       "        1.11058997e-02,  8.69479179e-02, -5.83646372e-02,  2.90315226e-02,\n",
       "       -1.86710875e-03, -2.16954350e-02,  3.05370486e-04, -5.61317019e-02,\n",
       "        5.11689403e-04, -2.42701569e-03, -6.31541461e-02,  5.65459393e-02,\n",
       "       -1.07675031e-01,  5.15288487e-02, -5.83581533e-03,  3.60747091e-02,\n",
       "       -1.02065817e-01, -2.53768619e-02,  1.37597928e-02,  3.55929621e-02,\n",
       "       -4.61556576e-02,  5.07745147e-03,  3.42036132e-03, -5.03035076e-02,\n",
       "        2.53975801e-02, -1.03013646e-02,  6.73661903e-02, -5.46986386e-02,\n",
       "       -7.34575540e-02,  2.88862996e-02,  4.74098548e-02, -1.38216034e-08,\n",
       "       -3.85454521e-02,  1.98230259e-02, -6.01584464e-02, -3.76450047e-02,\n",
       "       -4.78926301e-02,  3.42212170e-02,  1.54401520e-02,  2.33039111e-02,\n",
       "        1.29191065e-02,  1.18441917e-02, -1.98865756e-02, -5.66444173e-02,\n",
       "        1.49428053e-02,  4.90071550e-02,  5.74480668e-02, -8.03747959e-03,\n",
       "       -4.78233509e-02,  3.20792315e-05, -3.25774844e-03,  6.08153455e-02,\n",
       "       -2.00417335e-03, -3.71501818e-02,  2.52802745e-02,  6.12459742e-02,\n",
       "       -2.81452015e-02, -8.65856651e-03, -3.25729251e-02,  4.59057242e-02,\n",
       "        3.53774056e-02,  4.15714458e-02,  5.85447475e-02,  4.30943854e-02,\n",
       "       -7.15298057e-02,  1.87507141e-02,  1.89251639e-02,  1.04634715e-02,\n",
       "        5.76911159e-02, -9.77618620e-03, -2.23726965e-02, -5.46499975e-02,\n",
       "       -2.99446918e-02,  3.10871340e-02,  5.54673821e-02,  9.27277096e-03,\n",
       "       -5.35178790e-03,  6.45099431e-02,  6.78193793e-02,  3.72372419e-02,\n",
       "        3.86520335e-03,  9.93981957e-02, -7.57160559e-02, -3.72963883e-02,\n",
       "        3.31940800e-02,  3.07732262e-02,  9.20932591e-02,  2.03430019e-02,\n",
       "       -1.09342923e-02, -5.39254993e-02, -5.31939529e-02,  9.79984645e-03,\n",
       "       -9.12885815e-02,  2.15603895e-02, -1.76115800e-02,  5.58080105e-03],\n",
       "      dtype=float32)"
      ]
     },
     "execution_count": 68,
     "metadata": {},
     "output_type": "execute_result"
    }
   ],
   "source": [
    "answer_vector[0]"
   ]
  },
  {
   "cell_type": "code",
   "execution_count": 69,
   "id": "921f5960-9982-4b57-8ca7-a33aa61e83f2",
   "metadata": {},
   "outputs": [
    {
     "data": {
      "text/plain": [
       "0.2733495775173865"
      ]
     },
     "execution_count": 69,
     "metadata": {},
     "output_type": "execute_result"
    }
   ],
   "source": [
    "compute_avg_cosine(prediction_vector, answer_vector)"
   ]
  },
  {
   "cell_type": "code",
   "execution_count": 74,
   "id": "e855b196-d383-4eb4-b998-953f45434b2a",
   "metadata": {},
   "outputs": [
    {
     "data": {
      "text/plain": [
       "0.2270179176717159"
      ]
     },
     "execution_count": 74,
     "metadata": {},
     "output_type": "execute_result"
    }
   ],
   "source": [
    "compute_avg_cosine(prediction_small_vector, answer_vector)"
   ]
  },
  {
   "cell_type": "code",
   "execution_count": null,
   "id": "cb14a9b9-d006-4624-a238-7d55ad8cb094",
   "metadata": {},
   "outputs": [],
   "source": []
  }
 ],
 "metadata": {
  "kernelspec": {
   "display_name": "Python 3 (ipykernel)",
   "language": "python",
   "name": "python3"
  },
  "language_info": {
   "codemirror_mode": {
    "name": "ipython",
    "version": 3
   },
   "file_extension": ".py",
   "mimetype": "text/x-python",
   "name": "python",
   "nbconvert_exporter": "python",
   "pygments_lexer": "ipython3",
   "version": "3.10.12"
  }
 },
 "nbformat": 4,
 "nbformat_minor": 5
}
